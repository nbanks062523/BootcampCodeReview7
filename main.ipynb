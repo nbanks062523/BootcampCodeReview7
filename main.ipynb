{
 "cells": [
  {
   "cell_type": "code",
   "execution_count": 2,
   "metadata": {},
   "outputs": [
    {
     "name": "stdout",
     "output_type": "stream",
     "text": [
      "Project: debweek7-nb\n"
     ]
    }
   ],
   "source": [
    "#Create a Python Big Query Client\n",
    "\n",
    "#Import the library\n",
    "from google.cloud import bigquery\n",
    "\n",
    "#Create a connection and show project that you are connected to\n",
    "client = bigquery.Client(project=\"debweek7-nb\")\n",
    "print(f\"Project: {client.project}\")\n",
    "\n"
   ]
  },
  {
   "cell_type": "code",
   "execution_count": 3,
   "metadata": {},
   "outputs": [
    {
     "name": "stdout",
     "output_type": "stream",
     "text": [
      "Created dataset debweek7-nb.plants\n"
     ]
    }
   ],
   "source": [
    "# Create a new dataset called \"Plants\" in the project\n",
    "\n",
    "#set dataset_id to the ID of the dataset to create\n",
    "dataset_id = \"{}.plants\".format(client.project)\n",
    "\n",
    "#Construct a full Dataset object to send to the API\n",
    "dataset=bigquery.Dataset(dataset_id)\n",
    "\n",
    "#Specify the geographic location where the dataset should reside\n",
    "dataset.location=\"US\"\n",
    "\n",
    "#Send the dataset to the API for creation, with an explicit timeout\n",
    "#Raises google.api_core.exceptions.conflict if the Dataset already exists W/in the project\n",
    "dataset = client.create_dataset(dataset,timeout=30)\n",
    "\t\t\t\t\t\t\t\n",
    "print(\"Created dataset {}.{}\".format(client.project, dataset.dataset_id))"
   ]
  },
  {
   "cell_type": "code",
   "execution_count": 11,
   "metadata": {},
   "outputs": [
    {
     "name": "stdout",
     "output_type": "stream",
     "text": [
      "Datasets in project debweek7-nb:\n",
      "full_name: `debweek7-nb:babynames`\n",
      "full_name: `debweek7-nb:babynames2`\n",
      "full_name: `debweek7-nb:lego`\n",
      "full_name: `debweek7-nb:mls_salaries`\n",
      "full_name: `debweek7-nb:my_vinyls`\n",
      "full_name: `debweek7-nb:plants`\n",
      "full_name: `debweek7-nb:sf_bikeshare_nb`\n",
      "full_name: `debweek7-nb:streaming_catalog`\n"
     ]
    }
   ],
   "source": [
    "#List the datasets in the BigQuery Project\n",
    "datasets= list(client.list_datasets())\n",
    "project =client.project\n",
    "\n",
    "if datasets:\n",
    "\tprint(\"Datasets in project {}:\".format(project))\n",
    "\tfor dataset in datasets:\n",
    "\t\tprint(f\"full_name: `{dataset.full_dataset_id}`\")\n",
    "else:\n",
    "\tprint(\"{} project does not contain any datasets.\" .format(project))"
   ]
  },
  {
   "cell_type": "code",
   "execution_count": 3,
   "metadata": {},
   "outputs": [
    {
     "name": "stdout",
     "output_type": "stream",
     "text": [
      "table name: `flower_shop`, created at: 2023-12-17 13:53:23.456000+00:00\n"
     ]
    }
   ],
   "source": [
    "#Use the list_tables method to list the tables in the plants dataset\n",
    "\n",
    "# first get the dataset reference object\n",
    "dataset_ref = client.get_dataset(\"plants\")\n",
    "\n",
    "# list table\n",
    "tables = client.list_tables(dataset_ref)\n",
    "\n",
    "#Print the newly created table name \n",
    "for table in tables:\n",
    "    print(f\"table name: `{table.table_id}`, created at: {table.created}\")"
   ]
  }
 ],
 "metadata": {
  "kernelspec": {
   "display_name": ".venv",
   "language": "python",
   "name": "python3"
  },
  "language_info": {
   "codemirror_mode": {
    "name": "ipython",
    "version": 3
   },
   "file_extension": ".py",
   "mimetype": "text/x-python",
   "name": "python",
   "nbconvert_exporter": "python",
   "pygments_lexer": "ipython3",
   "version": "3.10.12"
  }
 },
 "nbformat": 4,
 "nbformat_minor": 2
}
