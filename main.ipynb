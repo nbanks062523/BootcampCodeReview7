{
 "cells": [
  {
   "cell_type": "code",
   "execution_count": 2,
   "metadata": {},
   "outputs": [
    {
     "name": "stdout",
     "output_type": "stream",
     "text": [
      "Project: debweek7-nb\n"
     ]
    }
   ],
   "source": [
    "#Create a Python Big Query Client\n",
    "\n",
    "#Import the library\n",
    "from google.cloud import bigquery\n",
    "\n",
    "#Create a connection and show project that you are connected to\n",
    "client = bigquery.Client(project=\"debweek7-nb\")\n",
    "print(f\"Project: {client.project}\")\n",
    "\n"
   ]
  }
 ],
 "metadata": {
  "kernelspec": {
   "display_name": ".venv",
   "language": "python",
   "name": "python3"
  },
  "language_info": {
   "codemirror_mode": {
    "name": "ipython",
    "version": 3
   },
   "file_extension": ".py",
   "mimetype": "text/x-python",
   "name": "python",
   "nbconvert_exporter": "python",
   "pygments_lexer": "ipython3",
   "version": "3.10.12"
  }
 },
 "nbformat": 4,
 "nbformat_minor": 2
}
